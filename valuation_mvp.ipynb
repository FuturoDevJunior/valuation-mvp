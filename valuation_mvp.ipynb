{
  "nbformat": 4,
  "nbformat_minor": 0,
  "metadata": {
    "colab": {
      "provenance": [],
      "toc_visible": true,
      "authorship_tag": "ABX9TyOHmaY8ZrPGL8xYfGFuMq4x"
    },
    "kernelspec": {
      "name": "python3",
      "display_name": "Python 3"
    },
    "language_info": {
      "name": "python"
    }
  },
  "cells": [
    {
      "cell_type": "code",
      "execution_count": 22,
      "metadata": {
        "id": "H2AIkBz_wRSD"
      },
      "outputs": [],
      "source": []
    },
    {
      "cell_type": "code",
      "metadata": {
        "colab": {
          "base_uri": "https://localhost:8080/"
        },
        "id": "8408963e",
        "outputId": "73e862e8-3057-4fcb-a0b5-a141dc30331b"
      },
      "source": [
        "# Instala as bibliotecas necessárias\n",
        "!pip install yfinance pandas numpy statsmodels matplotlib seaborn"
      ],
      "execution_count": 23,
      "outputs": [
        {
          "output_type": "stream",
          "name": "stdout",
          "text": [
            "Requirement already satisfied: yfinance in /usr/local/lib/python3.11/dist-packages (0.2.65)\n",
            "Requirement already satisfied: pandas in /usr/local/lib/python3.11/dist-packages (2.2.2)\n",
            "Requirement already satisfied: numpy in /usr/local/lib/python3.11/dist-packages (2.0.2)\n",
            "Requirement already satisfied: statsmodels in /usr/local/lib/python3.11/dist-packages (0.14.5)\n",
            "Requirement already satisfied: matplotlib in /usr/local/lib/python3.11/dist-packages (3.10.0)\n",
            "Requirement already satisfied: seaborn in /usr/local/lib/python3.11/dist-packages (0.13.2)\n",
            "Requirement already satisfied: requests>=2.31 in /usr/local/lib/python3.11/dist-packages (from yfinance) (2.32.3)\n",
            "Requirement already satisfied: multitasking>=0.0.7 in /usr/local/lib/python3.11/dist-packages (from yfinance) (0.0.11)\n",
            "Requirement already satisfied: platformdirs>=2.0.0 in /usr/local/lib/python3.11/dist-packages (from yfinance) (4.3.8)\n",
            "Requirement already satisfied: pytz>=2022.5 in /usr/local/lib/python3.11/dist-packages (from yfinance) (2025.2)\n",
            "Requirement already satisfied: frozendict>=2.3.4 in /usr/local/lib/python3.11/dist-packages (from yfinance) (2.4.6)\n",
            "Requirement already satisfied: peewee>=3.16.2 in /usr/local/lib/python3.11/dist-packages (from yfinance) (3.18.2)\n",
            "Requirement already satisfied: beautifulsoup4>=4.11.1 in /usr/local/lib/python3.11/dist-packages (from yfinance) (4.13.4)\n",
            "Requirement already satisfied: curl_cffi>=0.7 in /usr/local/lib/python3.11/dist-packages (from yfinance) (0.12.0)\n",
            "Requirement already satisfied: protobuf>=3.19.0 in /usr/local/lib/python3.11/dist-packages (from yfinance) (5.29.5)\n",
            "Requirement already satisfied: websockets>=13.0 in /usr/local/lib/python3.11/dist-packages (from yfinance) (15.0.1)\n",
            "Requirement already satisfied: python-dateutil>=2.8.2 in /usr/local/lib/python3.11/dist-packages (from pandas) (2.9.0.post0)\n",
            "Requirement already satisfied: tzdata>=2022.7 in /usr/local/lib/python3.11/dist-packages (from pandas) (2025.2)\n",
            "Requirement already satisfied: scipy!=1.9.2,>=1.8 in /usr/local/lib/python3.11/dist-packages (from statsmodels) (1.15.3)\n",
            "Requirement already satisfied: patsy>=0.5.6 in /usr/local/lib/python3.11/dist-packages (from statsmodels) (1.0.1)\n",
            "Requirement already satisfied: packaging>=21.3 in /usr/local/lib/python3.11/dist-packages (from statsmodels) (25.0)\n",
            "Requirement already satisfied: contourpy>=1.0.1 in /usr/local/lib/python3.11/dist-packages (from matplotlib) (1.3.2)\n",
            "Requirement already satisfied: cycler>=0.10 in /usr/local/lib/python3.11/dist-packages (from matplotlib) (0.12.1)\n",
            "Requirement already satisfied: fonttools>=4.22.0 in /usr/local/lib/python3.11/dist-packages (from matplotlib) (4.58.5)\n",
            "Requirement already satisfied: kiwisolver>=1.3.1 in /usr/local/lib/python3.11/dist-packages (from matplotlib) (1.4.8)\n",
            "Requirement already satisfied: pillow>=8 in /usr/local/lib/python3.11/dist-packages (from matplotlib) (11.2.1)\n",
            "Requirement already satisfied: pyparsing>=2.3.1 in /usr/local/lib/python3.11/dist-packages (from matplotlib) (3.2.3)\n",
            "Requirement already satisfied: soupsieve>1.2 in /usr/local/lib/python3.11/dist-packages (from beautifulsoup4>=4.11.1->yfinance) (2.7)\n",
            "Requirement already satisfied: typing-extensions>=4.0.0 in /usr/local/lib/python3.11/dist-packages (from beautifulsoup4>=4.11.1->yfinance) (4.14.1)\n",
            "Requirement already satisfied: cffi>=1.12.0 in /usr/local/lib/python3.11/dist-packages (from curl_cffi>=0.7->yfinance) (1.17.1)\n",
            "Requirement already satisfied: certifi>=2024.2.2 in /usr/local/lib/python3.11/dist-packages (from curl_cffi>=0.7->yfinance) (2025.7.14)\n",
            "Requirement already satisfied: six>=1.5 in /usr/local/lib/python3.11/dist-packages (from python-dateutil>=2.8.2->pandas) (1.17.0)\n",
            "Requirement already satisfied: charset-normalizer<4,>=2 in /usr/local/lib/python3.11/dist-packages (from requests>=2.31->yfinance) (3.4.2)\n",
            "Requirement already satisfied: idna<4,>=2.5 in /usr/local/lib/python3.11/dist-packages (from requests>=2.31->yfinance) (3.10)\n",
            "Requirement already satisfied: urllib3<3,>=1.21.1 in /usr/local/lib/python3.11/dist-packages (from requests>=2.31->yfinance) (2.4.0)\n",
            "Requirement already satisfied: pycparser in /usr/local/lib/python3.11/dist-packages (from cffi>=1.12.0->curl_cffi>=0.7->yfinance) (2.22)\n"
          ]
        }
      ]
    },
    {
      "cell_type": "markdown",
      "metadata": {
        "id": "b4046d5f"
      },
      "source": [
        "## Variáveis-chave\n",
        "\n",
        "Defina aqui as variáveis essenciais para o valuation, como:\n",
        "\n",
        "*   `ticker`: o código da ação a ser avaliada (ex: \"PETR4.SA\")\n",
        "*   `market`: o código do índice de mercado para o CAPM (ex: \"^BVSP\" para o IBOVESPA)\n",
        "*   `rf`: taxa livre de risco (em decimal)\n",
        "*   `mkt_ret`: retorno esperado do mercado (em decimal)\n",
        "*   Outras variáveis relevantes para o modelo de valuation."
      ]
    },
    {
      "cell_type": "code",
      "metadata": {
        "id": "2f9cb4ea"
      },
      "source": [
        "# ===============================#\n",
        "#   Imports e parâmetros globais #\n",
        "# ===============================#\n",
        "\n",
        "import yfinance as yf      # Para baixar dados de mercado\n",
        "import pandas as pd        # Para manipulação de dados (DataFrames)\n",
        "import numpy as np         # Para operações numéricas (cálculo de Beta)\n",
        "import statsmodels.api as sm # Para modelos estatísticos (regressão OLS)\n",
        "import matplotlib.pyplot as plt # Para visualização de dados (gráficos)\n",
        "plt.rcParams[\"figure.dpi\"] = 110  # Configura resolução para gráficos mais nítidos\n",
        "\n",
        "# ---- Identificação dos ativos ----\n",
        "ticker      = \"PETR4.SA\"   # Código da ação a ser avaliada (ex: \"PETR4.SA\")\n",
        "market_idx  = \"^BVSP\"      # Código do índice de mercado para o CAPM (ex: \"^BVSP\" para o IBOVESPA)\n",
        "\n",
        "# ---- Premissas macroeconômicas ----\n",
        "risk_free   = 0.10   # Taxa livre de risco (em decimal) (ex.: SELIC a.a.)\n",
        "market_ret  = 0.16   # Retorno esperado do mercado (em decimal)\n",
        "tax_rate    = 0.34   # Alíquota de IR/CS sobre lucro (em decimal)\n",
        "\n",
        "# ---- Estrutura de capital (place-holders; ajuste depois) ----\n",
        "# Esses valores são placeholders e devem ser ajustados com dados reais da empresa\n",
        "debt_total  = 4_000_000_000   # Dívida bruta total da empresa\n",
        "equity_mkt  = 6_000_000_000   # Valor de mercado do patrimônio (Nº de ações * Preço da ação)\n",
        "cost_debt   = 0.12            # Custo pré-imposto da dívida (em decimal)\n",
        "\n",
        "# ---- Premissas de projeção de fluxo de caixa ----\n",
        "fcf_base    = 1_000_000_000   # FCFF (Fluxo de Caixa Livre para a Firma) do ano-base\n",
        "g_growth    = 0.05            # Taxa de crescimento anual do FCFF durante o horizonte explícito (ex: anos 1-5) (em decimal)\n",
        "g_terminal  = 0.03            # Taxa de crescimento perpétuo do FCFF após o horizonte explícito (em decimal)\n",
        "years_proj  = 5               # Horizonte explícito de projeção em anos"
      ],
      "execution_count": 24,
      "outputs": []
    },
    {
      "cell_type": "code",
      "metadata": {
        "colab": {
          "base_uri": "https://localhost:8080/"
        },
        "id": "fa7d7482",
        "outputId": "7bcff69f-92b6-4884-d249-b0bbf41c7f6a"
      },
      "source": [
        "# ====================#\n",
        "#   CAPM e Cálculo de Ke #\n",
        "# ====================#\n",
        "\n",
        "# Baixar dados históricos de preço para o ticker e o índice de mercado\n",
        "# start=\"2019-01-01\" define o início do período de análise para o cálculo do Beta\n",
        "prices  = yf.download([ticker, market_idx], start=\"2019-01-01\")\n",
        "\n",
        "# Calcular os retornos diários percentuais e remover quaisquer linhas com valores ausentes (NaN)\n",
        "# Acessamos os preços de fechamento ('Close') para cada ticker, já que o retorno baixado é MultiIndex\n",
        "ret     = prices['Close'].pct_change().dropna()\n",
        "\n",
        "# Preparar os dados para a regressão OLS (Ordinary Least Squares)\n",
        "# 'y' é a variável dependente (retornos do ticker da ação)\n",
        "y = ret[ticker]\n",
        "# 'X' é a variável independente (retornos do índice de mercado), com a adição de uma constante para o intercepto\n",
        "X = sm.add_constant(ret[market_idx])\n",
        "\n",
        "# Executar a regressão OLS\n",
        "model = sm.OLS(y, X).fit()\n",
        "\n",
        "# Extrair o coeficiente Beta do modelo (a sensibilidade do retorno do ticker ao retorno do mercado)\n",
        "beta = model.params[market_idx]   # β estimado\n",
        "\n",
        "# Calcular o Custo de Capital Próprio (Ke) usando o modelo CAPM\n",
        "# Fórmula: Ke = Taxa Livre de Risco + Beta * (Retorno Esperado do Mercado - Taxa Livre de Risco)\n",
        "ke = risk_free + beta * (market_ret - risk_free)\n",
        "\n",
        "# Exibir os resultados calculados\n",
        "print(f\"Beta ({ticker} vs {market_idx}): {beta:.4f}\")\n",
        "print(f\"Custo de Capital Próprio (Ke): {ke:.4f}\")"
      ],
      "execution_count": 25,
      "outputs": [
        {
          "output_type": "stream",
          "name": "stderr",
          "text": [
            "/tmp/ipython-input-25-3578717858.py:7: FutureWarning: YF.download() has changed argument auto_adjust default to True\n",
            "  prices  = yf.download([ticker, market_idx], start=\"2019-01-01\")\n",
            "[*********************100%***********************]  2 of 2 completed\n"
          ]
        },
        {
          "output_type": "stream",
          "name": "stdout",
          "text": [
            "Beta (PETR4.SA vs ^BVSP): 1.2342\n",
            "Custo de Capital Próprio (Ke): 0.1740\n"
          ]
        }
      ]
    },
    {
      "cell_type": "code",
      "metadata": {
        "colab": {
          "base_uri": "https://localhost:8080/"
        },
        "id": "abee73be",
        "outputId": "c7c7a314-d7b1-4b3a-f32c-ed9d60a51627"
      },
      "source": [
        "# =====================#\n",
        "#   Cálculo do WACC    #\n",
        "# =====================#\n",
        "\n",
        "# Custo da dívida pós-imposto: Custo da Dívida * (1 - Alíquota de Imposto)\n",
        "cost_debt_after_tax = cost_debt * (1 - tax_rate)\n",
        "\n",
        "# Valor total da empresa (Enterprise Value): Dívida Total + Valor de Mercado do Patrimônio\n",
        "total_value = debt_total + equity_mkt\n",
        "\n",
        "# Peso da dívida na estrutura de capital: Dívida Total / Valor Total da Empresa\n",
        "weight_debt = debt_total / total_value\n",
        "\n",
        "# Peso do patrimônio na estrutura de capital: Valor de Mercado do Patrimônio / Valor Total da Empresa\n",
        "weight_equity = equity_mkt / total_value\n",
        "\n",
        "# Cálculo do WACC (Custo Médio Ponderado de Capital)\n",
        "# Fórmula: (Peso do Patrimônio * Ke) + (Peso da Dívida * Custo da Dívida Pós-Imposto)\n",
        "wacc = (weight_equity * ke) + (weight_debt * cost_debt_after_tax)\n",
        "\n",
        "print(f\"Custo da Dívida Pós-Imposto: {cost_debt_after_tax:.4f}\")\n",
        "print(f\"Peso da Dívida: {weight_debt:.4f}\")\n",
        "print(f\"Peso do Patrimônio: {weight_equity:.4f}\")\n",
        "print(f\"Custo Médio Ponderado de Capital (WACC): {wacc:.4f}\")"
      ],
      "execution_count": 26,
      "outputs": [
        {
          "output_type": "stream",
          "name": "stdout",
          "text": [
            "Custo da Dívida Pós-Imposto: 0.0792\n",
            "Peso da Dívida: 0.4000\n",
            "Peso do Patrimônio: 0.6000\n",
            "Custo Médio Ponderado de Capital (WACC): 0.1361\n"
          ]
        }
      ]
    },
    {
      "cell_type": "code",
      "metadata": {
        "colab": {
          "base_uri": "https://localhost:8080/"
        },
        "id": "c1b974f0",
        "outputId": "aff52847-9b95-4dc8-9e23-b3771ed9563e"
      },
      "source": [
        "# ==============================#\n",
        "#   Projeção de FCFF e Valor Terminal #\n",
        "# ==============================#\n",
        "\n",
        "# Projetar FCFF para o horizonte explícito\n",
        "fcfs_projetados = [fcf_base * (1 + g_growth)**i for i in range(1, years_proj + 1)]\n",
        "\n",
        "# Calcular o Valor Terminal usando o Modelo de Crescimento de Gordon\n",
        "# Assumindo que o primeiro fluxo de caixa no período terminal é fcf_projetados[-1] * (1 + g_terminal)\n",
        "# É crucial garantir que WACC > g_terminal para o modelo ser válido.\n",
        "if wacc <= g_terminal:\n",
        "    valor_terminal = float('inf') # Ou outra forma de indicar que o modelo não é aplicável\n",
        "    print(\"Atenção: WACC <= Taxa de Crescimento Terminal. O Modelo de Gordon não é aplicável.\")\n",
        "else:\n",
        "    valor_terminal = (fcfs_projetados[-1] * (1 + g_terminal)) / (wacc - g_terminal)\n",
        "\n",
        "\n",
        "print(f\"Fluxos de Caixa Projetados ({years_proj} anos):\")\n",
        "for i, fcf in enumerate(fcfs_projetados):\n",
        "    print(f\"Ano {i+1}: {fcf:,.2f}\")\n",
        "\n",
        "print(f\"\\nValor Terminal (Modelo de Gordon): {valor_terminal:,.2f}\")"
      ],
      "execution_count": 27,
      "outputs": [
        {
          "output_type": "stream",
          "name": "stdout",
          "text": [
            "Fluxos de Caixa Projetados (5 anos):\n",
            "Ano 1: 1,050,000,000.00\n",
            "Ano 2: 1,102,500,000.00\n",
            "Ano 3: 1,157,625,000.00\n",
            "Ano 4: 1,215,506,250.00\n",
            "Ano 5: 1,276,281,562.50\n",
            "\n",
            "Valor Terminal (Modelo de Gordon): 12,388,750,500.57\n"
          ]
        }
      ]
    },
    {
      "cell_type": "code",
      "metadata": {
        "colab": {
          "base_uri": "https://localhost:8080/"
        },
        "id": "f5b799a1",
        "outputId": "f7e83220-2fff-4026-f36f-f31a9993fc5d"
      },
      "source": [
        "# =================================#\n",
        "#   Valuation (DCF) e Valor do Patrimônio #\n",
        "# =================================#\n",
        "\n",
        "# Calcular o Valor Presente dos FCFFs projetados\n",
        "pv_fcfs = sum(fcf / (1 + wacc)**i for i, fcf in enumerate(fcfs_projetados, 1))\n",
        "\n",
        "# Calcular o Valor Presente do Valor Terminal\n",
        "pv_valor_terminal = valor_terminal / (1 + wacc)**years_proj\n",
        "\n",
        "# Calcular o Valor da Firma (Enterprise Value)\n",
        "enterprise_value = pv_fcfs + pv_valor_terminal\n",
        "\n",
        "# Calcular o Valor do Patrimônio (Equity Value)\n",
        "# Assumindo Equity Value = Enterprise Value - Dívida Líquida (simplificado como Dívida Total neste caso)\n",
        "equity_value = enterprise_value - debt_total\n",
        "\n",
        "print(f\"Valor Presente dos FCFFs Projetados: {pv_fcfs:,.2f}\")\n",
        "print(f\"Valor Presente do Valor Terminal: {pv_valor_terminal:,.2f}\")\n",
        "print(f\"\\nValor da Firma (Enterprise Value): {enterprise_value:,.2f}\")\n",
        "print(f\"Valor do Patrimônio (Equity Value): {equity_value:,.2f}\")"
      ],
      "execution_count": 28,
      "outputs": [
        {
          "output_type": "stream",
          "name": "stdout",
          "text": [
            "Valor Presente dos FCFFs Projetados: 3,971,652,578.45\n",
            "Valor Presente do Valor Terminal: 6,545,240,988.63\n",
            "\n",
            "Valor da Firma (Enterprise Value): 10,516,893,567.08\n",
            "Valor do Patrimônio (Equity Value): 6,516,893,567.08\n"
          ]
        }
      ]
    },
    {
      "cell_type": "code",
      "metadata": {
        "colab": {
          "base_uri": "https://localhost:8080/",
          "height": 763
        },
        "id": "928c765b",
        "outputId": "9220ab1b-9727-4048-e41b-3e762e9e9bd0"
      },
      "source": [
        "# ========================================#\n",
        "#   Gráfico Tornado de Sensibilidade     #\n",
        "# ========================================#\n",
        "\n",
        "# Definir variações para os parâmetros de sensibilidade\n",
        "wacc_delta = 0.02\n",
        "g_growth_delta = 0.01\n",
        "g_terminal_delta = 0.01\n",
        "\n",
        "# Armazenar os resultados da sensibilidade\n",
        "sensibilidade = {}\n",
        "\n",
        "# Função para calcular o Equity Value com base em parâmetros variados\n",
        "def calcular_equity_value(wacc_sens, g_growth_sens, g_terminal_sens):\n",
        "    \"\"\"\n",
        "    Calcula o Valor do Patrimônio (Equity Value) para um conjunto específico de premissas.\n",
        "\n",
        "    Args:\n",
        "        wacc_sens (float): O WACC a ser usado no cálculo.\n",
        "        g_growth_sens (float): A taxa de crescimento anual do FCFF no horizonte explícito.\n",
        "        g_terminal_sens (float): A taxa de crescimento perpétuo do FCFF.\n",
        "\n",
        "    Returns:\n",
        "        float: O Valor do Patrimônio calculado.\n",
        "    \"\"\"\n",
        "    # Projetar FCFF com as premissas de sensibilidade\n",
        "    fcfs_sens = [fcf_base * (1 + g_growth_sens)**i for i in range(1, years_proj + 1)]\n",
        "\n",
        "    # Calcular o Valor Terminal com as premissas de sensibilidade\n",
        "    # Evita divisão por zero ou valores negativos no denominador\n",
        "    if wacc_sens <= g_terminal_sens:\n",
        "        valor_terminal_sens = float('inf') if (fcfs_sens[-1] * (1 + g_terminal_sens)) > 0 else float('-inf')\n",
        "    else:\n",
        "        valor_terminal_sens = (fcfs_sens[-1] * (1 + g_terminal_sens)) / (wacc_sens - g_terminal_sens)\n",
        "\n",
        "\n",
        "    # Calcular o Valor Presente dos FCFFs projetados com o WACC de sensibilidade\n",
        "    pv_fcfs_sens = sum(fcf / (1 + wacc_sens)**i for i, fcf in enumerate(fcfs_sens, 1))\n",
        "\n",
        "    # Calcular o Valor Presente do Valor Terminal com o WACC de sensibilidade\n",
        "    pv_valor_terminal_sens = valor_terminal_sens / (1 + wacc_sens)**years_proj\n",
        "\n",
        "    # Calcular o Valor da Firma\n",
        "    enterprise_value_sens = pv_fcfs_sens + pv_valor_terminal_sens\n",
        "\n",
        "    # Calcular o Valor do Patrimônio\n",
        "    equity_value_sens = enterprise_value_sens - debt_total\n",
        "    return equity_value_sens\n",
        "\n",
        "# Valor base do Equity Value para comparação\n",
        "base_equity_value = equity_value\n",
        "\n",
        "# --- Calcular a sensibilidade para cada parâmetro ---\n",
        "\n",
        "# Sensibilidade ao WACC\n",
        "sensibilidade['WACC (+2%)'] = calcular_equity_value(wacc + wacc_delta, g_growth, g_terminal) - base_equity_value\n",
        "sensibilidade['WACC (-2%)'] = calcular_equity_value(wacc - wacc_delta, g_growth, g_terminal) - base_equity_value\n",
        "\n",
        "# Sensibilidade ao Crescimento (g_growth) no horizonte explícito\n",
        "sensibilidade['Crescimento (+1%)'] = calcular_equity_value(wacc, g_growth + g_growth_delta, g_terminal) - base_equity_value\n",
        "sensibilidade['Crescimento (-1%)'] = calcular_equity_value(wacc, g_growth - g_growth_delta, g_terminal) - base_equity_value\n",
        "\n",
        "# Sensibilidade ao Crescimento Terminal (g_terminal)\n",
        "# É crucial garantir que WACC > g_terminal para o modelo de Gordon ser válido.\n",
        "# A função calcular_equity_value já trata casos onde WACC <= g_terminal.\n",
        "sensibilidade['Crescimento Terminal (+1%)'] = calcular_equity_value(wacc, g_growth, g_terminal + g_terminal_delta) - base_equity_value\n",
        "sensibilidade['Crescimento Terminal (-1%)'] = calcular_equity_value(wacc, g_growth, g_terminal - g_terminal_delta) - base_equity_value\n",
        "\n",
        "\n",
        "# Preparar dados para o gráfico\n",
        "# Remove resultados que são NaN (ocorrem se WACC <= g_terminal)\n",
        "sensibilidade_plot = {k: v for k, v in sensibilidade.items() if not np.isnan(v)}\n",
        "labels = list(sensibilidade_plot.keys())\n",
        "values = list(sensibilidade_plot.values())\n",
        "\n",
        "\n",
        "# Ordenar os resultados por magnitude (para o formato tornado) de forma decrescente\n",
        "sorted_indices = np.argsort(np.abs(values))[::-1]\n",
        "sorted_labels = [labels[i] for i in sorted_indices]\n",
        "sorted_values = [values[i] for i in sorted_indices]\n",
        "\n",
        "# Criar o gráfico de barras horizontais (Gráfico Tornado)\n",
        "plt.figure(figsize=(10, 6))\n",
        "# Define a cor das barras: azul para aumento, salmão para diminuição\n",
        "colors = ['skyblue' if v > 0 else 'salmon' for v in sorted_values]\n",
        "plt.barh(sorted_labels, sorted_values, color=colors)\n",
        "plt.xlabel('Mudança no Valor do Patrimônio (Equity Value)')\n",
        "plt.title('Gráfico Tornado de Sensibilidade do Equity Value')\n",
        "plt.grid(axis='x', linestyle='--', alpha=0.7) # Adiciona grid para facilitar leitura\n",
        "plt.axvline(0, color='grey', linestyle='-', linewidth=0.8) # Adiciona linha vertical no zero\n",
        "\n",
        "# Melhorar layout\n",
        "plt.tight_layout()\n",
        "\n",
        "# Exibir o gráfico\n",
        "plt.show()\n",
        "\n",
        "# Opcional: imprimir valores exatos da sensibilidade\n",
        "print(\"\\nResultados da Sensibilidade (Mudança no Equity Value):\")\n",
        "for label, value in sensibilidade_plot.items():\n",
        "    print(f\"{label}: {value:,.2f}\")"
      ],
      "execution_count": 29,
      "outputs": [
        {
          "output_type": "display_data",
          "data": {
            "text/plain": [
              "<Figure size 1100x660 with 1 Axes>"
            ],
            "image/png": "[encoded data removed]"
          },
          "metadata": {}
        },
        {
          "output_type": "stream",
          "name": "stdout",
          "text": [
            "\n",
            "Resultados da Sensibilidade (Mudança no Equity Value):\n",
            "WACC (+2%): -1,689,261,152.17\n",
            "WACC (-2%): 2,476,196,491.29\n",
            "Crescimento (+1%): 426,510,683.01\n",
            "Crescimento (-1%): -412,034,758.15\n",
            "Crescimento Terminal (+1%): 751,173,613.80\n",
            "Crescimento Terminal (-1%): -621,783,591.63\n"
          ]
        }
      ]
    },
    {
      "cell_type": "markdown",
      "metadata": {
        "id": "921bea72"
      },
      "source": [
        "## 1. Setup"
      ]
    },
    {
      "cell_type": "markdown",
      "metadata": {
        "id": "a2112dcd"
      },
      "source": [
        "## 2. CAPM e Cálculo de Ke"
      ]
    },
    {
      "cell_type": "markdown",
      "metadata": {
        "id": "d430a206"
      },
      "source": [
        "## 3. Cálculo do WACC"
      ]
    },
    {
      "cell_type": "markdown",
      "metadata": {
        "id": "5ae79281"
      },
      "source": [
        "## 4. Projeção de FCFF e Valor Terminal"
      ]
    },
    {
      "cell_type": "markdown",
      "metadata": {
        "id": "836ae570"
      },
      "source": [
        "## 5. Valuation (DCF) e Valor do Patrimônio"
      ]
    },
    {
      "cell_type": "markdown",
      "metadata": {
        "id": "9149c795"
      },
      "source": [
        "## 6. Gráfico Tornado de Sensibilidade"
      ]
    },
    {
      "cell_type": "markdown",
      "metadata": {
        "id": "5aef277b"
      },
      "source": [
        "# Modelo de Valuation de Empresa por Fluxo de Caixa Descontado (DCF)\n",
        "\n",
        "Este notebook apresenta um modelo simplificado de Valuation de Empresa utilizando a metodologia de Fluxo de Caixa Descontado (DCF). O objetivo é fornecer um MVP (Minimum Viable Product) funcional e didático para estimar o valor de uma empresa, com foco na clareza do código e na replicabilidade no Google Colab.\n",
        "\n",
        "O modelo segue as seguintes etapas:\n",
        "1.  **Setup Inicial:** Instalação de bibliotecas e definição de parâmetros-chave.\n",
        "2.  **Cálculo do Custo de Capital Próprio (Ke):** Utilizando o modelo CAPM e dados históricos de mercado.\n",
        "3.  **Cálculo do Custo Médio Ponderado de Capital (WACC):** Determinando a taxa de desconto apropriada para os fluxos de caixa.\n",
        "4.  **Projeção de Fluxo de Caixa Livre para a Firma (FCFF) e Valor Terminal:** Estimando os fluxos futuros de caixa e o valor da empresa ao final do horizonte explícito.\n",
        "5.  **Valuation (DCF):** Descontando os fluxos projetados e o valor terminal para obter o Valor da Firma e o Valor do Patrimônio.\n",
        "6.  **Análise de Sensibilidade:** Visualizando o impacto da variação das premissas no Valor do Patrimônio através de um Gráfico Tornado.\n",
        "\n",
        "---\n",
        "\n",
        "## 1. Setup\n",
        "\n",
        "Esta seção configura o ambiente necessário e define as premissas iniciais para o modelo de valuation. É aqui que você pode ajustar o ticker da empresa, o índice de mercado, taxas macroeconômicas e premissas financeiras da empresa."
      ]
    },
    {
      "cell_type": "markdown",
      "metadata": {
        "id": "8d39d388"
      },
      "source": [
        "## 2. CAPM e Cálculo de Ke\n",
        "\n",
        "Esta seção calcula o Custo de Capital Próprio (Ke) utilizando o modelo CAPM (Capital Asset Pricing Model). O CAPM estima o retorno esperado de um ativo com base em seu risco sistemático (Beta) em relação ao mercado, a taxa livre de risco e o prêmio de risco de mercado.\n",
        "\n",
        "O Beta é calculado através de uma regressão linear (OLS) dos retornos históricos da ação contra os retornos históricos de um índice de mercado relevante."
      ]
    },
    {
      "cell_type": "markdown",
      "metadata": {
        "id": "933bbf12"
      },
      "source": [
        "## 3. Cálculo do WACC\n",
        "\n",
        "O Custo Médio Ponderado de Capital (WACC - Weighted Average Cost of Capital) representa a taxa de retorno mínima que uma empresa deve gerar sobre seus ativos para satisfazer seus provedores de capital (acionistas e credores). Ele é usado como taxa de desconto para trazer os fluxos de caixa futuros a valor presente no modelo DCF.\n",
        "\n",
        "O WACC é calculado ponderando o custo do capital próprio (Ke) e o custo da dívida pós-impostos pelas suas respectivas participações na estrutura de capital da empresa."
      ]
    },
    {
      "cell_type": "markdown",
      "metadata": {
        "id": "cf749416"
      },
      "source": [
        "## 4. Projeção de FCFF e Valor Terminal\n",
        "\n",
        "Nesta etapa, projetamos os Fluxos de Caixa Livres para a Firma (FCFF) para um horizonte explícito de anos. O FCFF representa o caixa disponível para todos os provedores de capital da empresa após todas as despesas operacionais, impostos e investimentos em capital de giro e ativos fixos.\n",
        "\n",
        "Além da projeção explícita, calculamos o Valor Terminal, que representa o valor de todos os fluxos de caixa que a empresa gerará após o horizonte explícito. O modelo de Gordon é frequentemente usado para este cálculo, assumindo uma taxa de crescimento perpétuo constante."
      ]
    },
    {
      "cell_type": "markdown",
      "metadata": {
        "id": "11bc9e51"
      },
      "source": [
        "## 5. Valuation (DCF) e Valor do Patrimônio\n",
        "\n",
        "A etapa final do modelo DCF é calcular o Valor da Firma (Enterprise Value) e o Valor do Patrimônio (Equity Value). O Valor da Firma é obtido descontando os FCFFs projetados e o Valor Terminal de volta ao presente utilizando o WACC como taxa de desconto.\n",
        "\n",
        "O Valor do Patrimônio é então calculado subtraindo a dívida líquida (ou dívida total, em uma simplificação) do Valor da Firma. Este valor representa a riqueza disponível para os acionistas da empresa."
      ]
    },
    {
      "cell_type": "markdown",
      "metadata": {
        "id": "f23552a7"
      },
      "source": [
        "## 6. Gráfico Tornado de Sensibilidade\n",
        "\n",
        "A análise de sensibilidade é crucial em modelos de valuation para entender como o Valor do Patrimônio (Equity Value) é afetado por mudanças nas premissas-chave do modelo (como WACC, taxa de crescimento e taxa de crescimento terminal).\n",
        "\n",
        "O Gráfico Tornado visualiza o impacto de variar cada premissa individualmente, mostrando quais premissas têm o maior efeito sobre o resultado final do valuation. Isso ajuda a identificar os principais direcionadores de valor e os riscos associados."
      ]
    }
  ]
}